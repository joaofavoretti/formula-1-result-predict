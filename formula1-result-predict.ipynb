{
 "cells": [
  {
   "cell_type": "markdown",
   "metadata": {},
   "source": [
    "# Formula 1 Grand Prix Result Prediction"
   ]
  },
  {
   "cell_type": "markdown",
   "metadata": {},
   "source": [
    "## Introdução\n",
    "\n",
    "Durante a ocorrências de uma corrida da Formula 1 (chamado de Grand Prix), vários dados são analisados em tempo real, tal como desgaste de pneu, ritmo de corrida, temperatura da pista, posição dos pilotos, dificuldade de ultrapassagem, etc. Todos esses dados são utilizados para prever qual a melhor volta para se fazer uma parada nos boxes, e qual a melhor estratégia de corrida para se obter o melhor resultado.\n",
    "\n",
    "Esse é um problema muito complexo e necessita de dados em tempo real tal como dados gerados por simulações durante a corrida. Porém a ideia de utilizar alguns dos dados disponíveis para o público para realizar alguma forma de classificação ainda é bastante animadora. Por isso, o problema foi reduzido para um problema de classificação de resultado de corrida para cada piloto. E as classes resultantes foram reduzidas para: **Obtenção de pódio**, **Obtenção de pontos**, **Não obteve pontos**; para simplificar o problema."
   ]
  },
  {
   "cell_type": "markdown",
   "metadata": {},
   "source": [
    "## 1. Importando bibliotecas"
   ]
  },
  {
   "cell_type": "code",
   "execution_count": 1,
   "metadata": {},
   "outputs": [],
   "source": [
    "import pandas as pd\n",
    "import numpy as np\n",
    "import matplotlib.pyplot as plt\n",
    "import seaborn as sns\n",
    "from sklearn.preprocessing import StandardScaler, LabelEncoder\n",
    "from sklearn.model_selection import cross_val_score, train_test_split, StratifiedKFold, RandomizedSearchCV\n",
    "from sklearn.neural_network import MLPClassifier\n",
    "from sklearn.tree import DecisionTreeClassifier\n",
    "from sklearn.neighbors import KNeighborsClassifier\n",
    "from sklearn.naive_bayes import GaussianNB\n",
    "from sklearn.metrics import accuracy_score, confusion_matrix\n",
    "import warnings\n",
    "\n",
    "warnings.filterwarnings('ignore')\n",
    "plt.style.use('seaborn')\n",
    "\n",
    "SEED = 42"
   ]
  },
  {
   "cell_type": "markdown",
   "metadata": {},
   "source": [
    "## 2. Leitura dos dados"
   ]
  },
  {
   "cell_type": "markdown",
   "metadata": {},
   "source": [
    "Os dados utilizados para esses experimentos foram providos pela [Ergast Developer API](https://ergast.com/mrd/) e encontrados pelo Kaggle em [Formula 1 World Championship - 1950 to 2020](https://www.kaggle.com/rohanrao/formula-1-world-championship-1950-2020).\n",
    "\n",
    "Os arquivos CSV possuem as seguintes informações:\n",
    "- **results.csv**: Resultados de cada piloto em cada uma das corridas como posição final, tempo de corrida, pontos acumulados.\n",
    "- **races.csv**: Informações de todos os Grand Prix ja realizados como: nome, data e horário de início.\n",
    "- **qualifying.csv**: Resultados da classificação realizadas para cada corrida, como: Tempo de volta no Q1, Q2 e Q3, posição final na classificação.\n",
    "- **drivers.csv**: Armazena as informações de todos os pilotos que ja competiram na F1, como nome, data de nascimento, nacionalidade.\n",
    "- **constructors.csv**: Armazena as informações de todas as equipes que ja participaram da F1, como nome, nacionalidade.\n",
    "- **circuits.csv**: Armazena todos dados dos circuitos ja adicionados no calendario da F1, como nome, localização geografica, nacionalidade.\n",
    "\n",
    "Todas as informações disponíveis não vão ser explicadas de início. Posteriormente as informações relevantes serão resumidas em um Dataframe e então as colunas serão explicadas antes de serem aplicadas."
   ]
  },
  {
   "cell_type": "code",
   "execution_count": 2,
   "metadata": {},
   "outputs": [],
   "source": [
    "results = pd.read_csv('data/results.csv')\n",
    "races = pd.read_csv('data/races.csv')\n",
    "quali = pd.read_csv('data/qualifying.csv')\n",
    "drivers = pd.read_csv('data/drivers.csv')\n",
    "constructors = pd.read_csv('data/constructors.csv')\n",
    "circuit = pd.read_csv('data/circuits.csv')"
   ]
  },
  {
   "cell_type": "markdown",
   "metadata": {},
   "source": [
    "## 3. Pré-processamento\n",
    "\n",
    "O preprocessamento das informações irá envolver a criação de um novo dataset somente com as colunas necessárias de todos os arquivos CSVs apresentados.\n",
    "\n",
    "Para isso todos os datasets serão unidos em uma única estrutura de dados e novas colunas serão adicionadas, enquanto outras serão modificadas ou removidas."
   ]
  },
  {
   "cell_type": "markdown",
   "metadata": {},
   "source": [
    "### 3.1. Criação de um Dataset simplificado\n",
    "\n",
    "Na primeira etapa do pré-processamento, os datasets serão unidos em um único dataframe e será feito a manipulação das features.\n"
   ]
  },
  {
   "cell_type": "markdown",
   "metadata": {},
   "source": [
    "#### 3.1.1. Merge dos dados\n",
    "\n",
    "O merge dos dados utilizará colunas de identificação comuns entre os arquivos CSVs. Tal como: raceId, driverId, constructorId, circuitId."
   ]
  },
  {
   "cell_type": "code",
   "execution_count": 3,
   "metadata": {},
   "outputs": [
    {
     "name": "stdout",
     "output_type": "stream",
     "text": [
      "Colunas resultantes do merge:  Index(['raceId', 'year', 'round', 'circuitId', 'name', 'date', 'time_race',\n",
      "       'url', 'resultId', 'driverId', 'constructorId', 'number', 'grid',\n",
      "       'position', 'positionText', 'positionOrder', 'points', 'laps',\n",
      "       'time_result', 'milliseconds', 'fastestLap', 'rank', 'fastestLapTime',\n",
      "       'fastestLapSpeed', 'statusId', 'qualifyId', 'number_quali',\n",
      "       'position_quali', 'q1', 'q2', 'q3', 'driverRef', 'number_driver',\n",
      "       'code', 'forename', 'surname', 'dob', 'nationality', 'url_driver',\n",
      "       'constructorRef', 'name_constructor', 'nationality_constructor',\n",
      "       'url_constructor', 'circuitRef', 'name_circuit', 'location', 'country',\n",
      "       'lat', 'lng', 'alt', 'url_circuit'],\n",
      "      dtype='object')\n"
     ]
    }
   ],
   "source": [
    "df1 = pd.merge(races,results,how='inner',on=['raceId'], suffixes=('_race','_result'))\n",
    "df2 = pd.merge(df1,quali,how='inner',on=['raceId','driverId','constructorId'], suffixes=('','_quali'))\n",
    "df3 = pd.merge(df2,drivers,how='inner',on=['driverId'], suffixes=('','_driver'))\n",
    "df4 = pd.merge(df3,constructors,how='inner',on=['constructorId'], suffixes=('','_constructor'))\n",
    "df5 = pd.merge(df4,circuit,how='inner',on=['circuitId'], suffixes=('','_circuit'))\n",
    "\n",
    "print('Colunas resultantes do merge: ', df5.columns)"
   ]
  },
  {
   "cell_type": "markdown",
   "metadata": {},
   "source": [
    "#### 3.1.2. Manipulação de colunas\n",
    "\n",
    "Essa etapa irá envolver a remoção de colunas que não serão utilizadas, a modificação de outras e a criação de novas colunas com base nas informações ja armazenadas.\n",
    "\n",
    "A primeira etapa consistirá na remoção das colunas que não serão utilizadas no restante do pré-processamento."
   ]
  },
  {
   "cell_type": "code",
   "execution_count": 4,
   "metadata": {},
   "outputs": [
    {
     "name": "stdout",
     "output_type": "stream",
     "text": [
      "Colunas restantes:  Index(['year', 'date', 'url', 'grid', 'position', 'statusId', 'number_driver',\n",
      "       'forename', 'surname', 'dob', 'nationality', 'url_driver',\n",
      "       'name_constructor', 'nationality_constructor', 'url_constructor',\n",
      "       'name_circuit', 'country'],\n",
      "      dtype='object')\n"
     ]
    }
   ],
   "source": [
    "# Criacao de um novo dataframe somente com as colunas que serao utilizada \n",
    "data = df5.drop(['round', 'circuitId', 'time_race', 'resultId', 'driverId',\n",
    "    'constructorId', 'number', 'positionText', 'positionOrder', 'position_quali',\n",
    "    'laps', 'time_result', 'rank', 'fastestLapTime', 'fastestLapSpeed',\n",
    "    'qualifyId', 'driverRef', 'number', 'code', 'url_circuit', 'circuitRef',\n",
    "    'location', 'lat', 'lng', 'alt', 'number_quali', 'points',\n",
    "    'constructorRef', 'name', 'raceId', 'fastestLap', 'q1', 'q2', 'q3',\n",
    "    'milliseconds'], 1)\n",
    "\n",
    "print('Colunas restantes: ', data.columns)"
   ]
  },
  {
   "cell_type": "markdown",
   "metadata": {},
   "source": [
    "A segunda etapa consiste da remoção dos dados armazenados antes de 2010. Isso se dá porque os carros da F1 são desenvolvidos baseados em regras que mudam constantemente. Quando há mudanças grandes no **regulamento** da categoria, os dados sobre desempenho dos carros e pilotos podem mudar e então se tornarem dados desrelacionados.\n",
    "\n",
    "Como entre o período entre 2010 e 2020 não teve muitas mudanças no regulamento dos carros, esse período pode se mostrar promissor para a criação de um modelo de predição."
   ]
  },
  {
   "cell_type": "code",
   "execution_count": 5,
   "metadata": {},
   "outputs": [],
   "source": [
    "data = data[data['year'] >= 2010]"
   ]
  },
  {
   "cell_type": "markdown",
   "metadata": {},
   "source": [
    "Adição de nomes mais significativos para algumas das colunas."
   ]
  },
  {
   "cell_type": "code",
   "execution_count": 6,
   "metadata": {},
   "outputs": [],
   "source": [
    "data.rename(columns={'name_circuit':'GP_name','grid':'quali_position','nationality':'nationality_driver'},inplace=True)"
   ]
  },
  {
   "cell_type": "markdown",
   "metadata": {},
   "source": [
    "Adição de coluna com nome completo do piloto."
   ]
  },
  {
   "cell_type": "code",
   "execution_count": 7,
   "metadata": {},
   "outputs": [],
   "source": [
    "data['driver'] = data['forename'] + ' ' + data['surname']"
   ]
  },
  {
   "cell_type": "markdown",
   "metadata": {},
   "source": [
    "Adição de uma nova coluna representando a data do piloto em dias no dia da corrida. É mais significativo mostrar armazenar o envelhecimento do piloto ao inves de sua data de nascimaneto e data da corrida de modo descorrelacionado.\n"
   ]
  },
  {
   "cell_type": "code",
   "execution_count": 8,
   "metadata": {},
   "outputs": [],
   "source": [
    "data['date'] = pd.to_datetime(data['date'])\n",
    "data['dob'] = pd.to_datetime(data['dob'])\n",
    "\n",
    "data['age_at_gp_in_days'] = (data['date'] - data['dob']).dt.days"
   ]
  },
  {
   "cell_type": "markdown",
   "metadata": {},
   "source": [
    "Durante o periodo de 2010 a 2020, algumas equipes mudaram de nome para favorecer patrocinadores, mas as fabricas, mecanicos e pilotos se mantiveram iguais. Por isso faz sentido manter as estatisticas da equipe para melhorar a classificacao do modelo."
   ]
  },
  {
   "cell_type": "code",
   "execution_count": 9,
   "metadata": {},
   "outputs": [],
   "source": [
    "\n",
    "data['name_constructor'] = data['name_constructor'].replace('Force India', 'Racing Point')\n",
    "data['name_constructor'] = data['name_constructor'].replace('Sauber', 'Alfa Romeo')\n",
    "data['name_constructor'] = data['name_constructor'].replace('Lotus F1', 'Renault')\n",
    "data['name_constructor'] = data['name_constructor'].replace('Toro Rosso', 'AlphaTauri')"
   ]
  },
  {
   "cell_type": "markdown",
   "metadata": {},
   "source": [
    "É comum ver pilotos mais emocionados do que o normal para correr no seu país. Por isso é possível que esse fato possua alguma relevancia no desempenho do piloto. O mesmo pode se aplicar para equipes que correm no país de origem.\n",
    "\n",
    "A coluna que indica a a nacionalidade do piloto e da equipe tiveram os valores alterados para o nome do país. Isso foi necessário para verificar se a nacionalidade é igual ao país que cede o Grand Prix. Para fazer essa conversao foi utilizado um CSV auxiliar que contem o nome do pais e a nacionalidade em ingles."
   ]
  },
  {
   "cell_type": "code",
   "execution_count": 10,
   "metadata": {},
   "outputs": [],
   "source": [
    "# Mapa para traduzir nacionalidade para o nome do pais\n",
    "demonyms = pd.read_csv('aux-data/demonyms.csv',index_col=0).to_dict()['Country']\n",
    "\n",
    "# Trocar UK, UAE e USA por United Kingdom, United Arab Emirates e United States\n",
    "data['country'] = data['country'].replace('UK', 'United Kingdom')\n",
    "data['country'] = data['country'].replace('UAE', 'United Arab Emirates')\n",
    "data['country'] = data['country'].replace('USA', 'United States')\n",
    "\n",
    "# Passando as colunas contendo a nacionalidade para o nome do pais\n",
    "data['nationality_driver'] = data['nationality_driver'].replace(demonyms)\n",
    "data['nationality_constructor'] = data['nationality_constructor'].replace(demonyms)\n",
    "\n",
    "# Colunas informando se o piloto e se a equipe estao competindo no pais de mesma nacionalidade\n",
    "data['driver_home'] = data['nationality_driver'] == data['country']\n",
    "data['constructor_home'] = data['nationality_constructor'] == data['country']\n",
    "data['driver_home'] = data['driver_home'].apply(lambda x: int(x))\n",
    "data['constructor_home'] = data['constructor_home'].apply(lambda x: int(x))"
   ]
  },
  {
   "cell_type": "markdown",
   "metadata": {},
   "source": [
    "Para justificar essa coluna, abaixo é exibido a porcentagem de vitórias de pilotos em casa comparado com a porcentagem total de vitórias."
   ]
  },
  {
   "cell_type": "code",
   "execution_count": 11,
   "metadata": {},
   "outputs": [
    {
     "name": "stdout",
     "output_type": "stream",
     "text": [
      "Lewis Hamilton win rate:  0.373134328358209\n",
      "Lewis Hamilton home win rate:  0.5\n",
      "Sebastian Vettel win rate:  0.24\n",
      "Sebastian Vettel home win rate:  0.125\n",
      "Fernando Alonso win rate:  0.06358381502890173\n",
      "Fernando Alonso home win rate:  0.16666666666666666\n",
      "Nico Rosberg win rate:  0.16911764705882354\n",
      "Nico Rosberg home win rate:  0.16666666666666666\n"
     ]
    },
    {
     "data": {
      "image/png": "[encoded data removed]",
      "text/plain": [
       "<Figure size 576x396 with 1 Axes>"
      ]
     },
     "metadata": {},
     "output_type": "display_data"
    }
   ],
   "source": [
    "# Lewis Hamilton win rates\n",
    "hamilton_wins = data[(data['driver'] == 'Lewis Hamilton') & (data['position'] == '1')]\n",
    "hamilton_total = data[data['driver'] == 'Lewis Hamilton']\n",
    "hamilton_win_rate = hamilton_wins.shape[0] / hamilton_total.shape[0]\n",
    "print('Lewis Hamilton win rate: ', hamilton_win_rate)\n",
    "hamilton_home_wins = data[(data['driver'] == 'Lewis Hamilton') & (data['position'] == '1') & (data['driver_home'] == 1)]\n",
    "hamilton_home_total = data[(data['driver'] == 'Lewis Hamilton') & (data['driver_home'] == 1)]\n",
    "hamilton_home_win_rate = hamilton_home_wins.shape[0] / hamilton_home_total.shape[0]\n",
    "print('Lewis Hamilton home win rate: ', hamilton_home_win_rate)\n",
    "\n",
    "# Sebastian Vettel win rates\n",
    "vettel_wins = data[(data['driver'] == 'Sebastian Vettel') & (data['position'] == '1')]\n",
    "vettel_total = data[data['driver'] == 'Sebastian Vettel']\n",
    "vettel_win_rate = vettel_wins.shape[0] / vettel_total.shape[0]\n",
    "print('Sebastian Vettel win rate: ', vettel_win_rate)\n",
    "vettel_home_wins = data[(data['driver'] == 'Sebastian Vettel') & (data['position'] == '1') & (data['driver_home'] == 1)]\n",
    "vettel_home_total = data[(data['driver'] == 'Sebastian Vettel') & (data['driver_home'] == 1)]\n",
    "vettel_home_win_rate = vettel_home_wins.shape[0] / vettel_home_total.shape[0]\n",
    "print('Sebastian Vettel home win rate: ', vettel_home_win_rate)\n",
    "\n",
    "# Fernando Alonso win rates\n",
    "alonso_wins = data[(data['driver'] == 'Fernando Alonso') & (data['position'] == '1')]\n",
    "alonso_total = data[data['driver'] == 'Fernando Alonso']\n",
    "alonso_win_rate = alonso_wins.shape[0] / alonso_total.shape[0]\n",
    "print('Fernando Alonso win rate: ', alonso_win_rate)\n",
    "alonso_home_wins = data[(data['driver'] == 'Fernando Alonso') & (data['position'] == '1') & (data['driver_home'] == 1)]\n",
    "alonso_home_total = data[(data['driver'] == 'Fernando Alonso') & (data['driver_home'] == 1)]\n",
    "alonso_home_win_rate = alonso_home_wins.shape[0] / alonso_home_total.shape[0]\n",
    "print('Fernando Alonso home win rate: ', alonso_home_win_rate)\n",
    "\n",
    "# Nico Rosberg win rates\n",
    "rosberg_wins = data[(data['driver'] == 'Nico Rosberg') & (data['position'] == '1')]\n",
    "rosberg_total = data[data['driver'] == 'Nico Rosberg']\n",
    "rosberg_win_rate = rosberg_wins.shape[0] / rosberg_total.shape[0]\n",
    "print('Nico Rosberg win rate: ', rosberg_win_rate)\n",
    "rosberg_home_wins = data[(data['driver'] == 'Nico Rosberg') & (data['position'] == '1') & (data['driver_home'] == 1)]\n",
    "rosberg_home_total = data[(data['driver'] == 'Nico Rosberg') & (data['driver_home'] == 1)]\n",
    "rosberg_home_win_rate = rosberg_home_wins.shape[0] / rosberg_home_total.shape[0]\n",
    "print('Nico Rosberg home win rate: ', rosberg_home_win_rate)\n",
    "\n",
    "pilots = ['Lewis Hamilton', 'Sebastian Vettel', 'Fernando Alonso', 'Nico Rosberg']\n",
    "win_rate = [hamilton_win_rate, vettel_win_rate, alonso_win_rate, rosberg_win_rate]\n",
    "home_win_rate = [hamilton_home_win_rate, vettel_home_win_rate, alonso_home_win_rate, rosberg_home_win_rate]\n",
    "\n",
    "# Barplot dos dados\n",
    "fig, ax = plt.subplots()\n",
    "barWidth = 0.25\n",
    "r1 = np.arange(len(pilots))\n",
    "r2 = [x + barWidth for x in r1]\n",
    "plt.bar(r1, win_rate, color='#7f6d5f', width=barWidth, edgecolor='white', label='Win Rate')\n",
    "plt.bar(r2, home_win_rate, color='#557f2d', width=barWidth, edgecolor='white', label='Home Win Rate')\n",
    "plt.xlabel('Pilots', fontweight='bold')\n",
    "plt.xticks([r + barWidth for r in range(len(pilots))], pilots)\n",
    "plt.legend()\n",
    "plt.show()"
   ]
  },
  {
   "cell_type": "markdown",
   "metadata": {},
   "source": [
    "A coluna statusId possui 136 diferentes codigos para representar possiveis resultados de um piloto em uma corrida (status.csv).\n",
    "\n",
    "Ex 1: Caso o piloto saia da corrida por conta de uma asa quebrada, o statusId sera 41.\n",
    "\n",
    "Ex 2: Caso o piloto saia da corrida por conta de um acidente, o statusId sera 73.\n",
    "\n",
    "Para simplificar a analise, foi criado uma coluna representando se o piloto teve que sair da corrida (DNF - Did Not Finish) independente do motivo.\n"
   ]
  },
  {
   "cell_type": "code",
   "execution_count": 12,
   "metadata": {},
   "outputs": [],
   "source": [
    "# DNF causado por culpa do piloto\n",
    "data['driver_dnf'] = data['statusId'].apply(lambda x: 1 if x in [3,4,20,29,31,41,68,73,81,97,82,104,107,130,137] else 0)\n",
    "\n",
    "# DNF causado por culpa da equipe\n",
    "data['constructor_dnf'] = data['statusId'].apply(lambda x: 1 if x not in [3,4,20,29,31,41,68,73,81,97,82,104,107,130,137,1] else 0)"
   ]
  },
  {
   "cell_type": "markdown",
   "metadata": {},
   "source": [
    "Adição da nova coluna driver_confidence que é baseado na quantidade de DNFs causados por culpa do piloto.\n",
    "\n",
    "Caso o piloto tenha mais confiança com o carro, é menos provável que ele bata e saia da corrida. Por isso a quantidade de DNFs causados pelo piloto foi utilizado para calcular a confiança do piloto."
   ]
  },
  {
   "cell_type": "code",
   "execution_count": 13,
   "metadata": {},
   "outputs": [],
   "source": [
    "dnf_by_driver = data.groupby('driver').sum()['driver_dnf']\n",
    "driver_race_entered = data.groupby('driver').count()['driver_dnf']\n",
    "driver_dnf_ratio = dnf_by_driver / driver_race_entered\n",
    "driver_confidence = 1 - driver_dnf_ratio\n",
    "driver_confidence_dict = dict(zip(driver_confidence.index,driver_confidence))\n",
    "data['driver_confidence'] = data['driver'].map(driver_confidence_dict)"
   ]
  },
  {
   "cell_type": "markdown",
   "metadata": {},
   "source": [
    "Semelhante ao calculo da confiança do piloto, a confiabilidade da equipe se baseia na quantidade de vezes que foi causado DNF por culpa da equipe."
   ]
  },
  {
   "cell_type": "code",
   "execution_count": 14,
   "metadata": {},
   "outputs": [],
   "source": [
    "dnf_by_constructor = data.groupby('name_constructor').sum()['constructor_dnf']\n",
    "constructor_race_entered = data.groupby('name_constructor').count()['constructor_dnf']\n",
    "constructor_dnf_ratio = (dnf_by_constructor/constructor_race_entered)\n",
    "constructor_relaiblity = 1-constructor_dnf_ratio\n",
    "constructor_relaiblity_dict = dict(zip(constructor_relaiblity.index,constructor_relaiblity))\n",
    "data['constructor_reliability'] = data['name_constructor'].map(constructor_relaiblity_dict)"
   ]
  },
  {
   "cell_type": "markdown",
   "metadata": {},
   "source": [
    "A principal vantagem de obter um modelo para predizer o resultado de corridas é utiliza-la em corridas futuras. Por isso foi mantido dados somente de equipes que ainda (temporada de 2020) participam da F1.\n",
    "\n",
    "O mesmo pode ser aplicado para os pilotos."
   ]
  },
  {
   "cell_type": "code",
   "execution_count": 15,
   "metadata": {},
   "outputs": [],
   "source": [
    "active_constructors = ['Renault', 'Williams', 'McLaren', 'Ferrari', 'Mercedes',\n",
    "                       'AlphaTauri', 'Racing Point', 'Alfa Romeo', 'Red Bull',\n",
    "                       'Haas F1 Team']\n",
    "data['active_constructor'] = data['name_constructor'].apply(lambda x: 1 if x in active_constructors else 0)\n",
    "\n",
    "active_drivers = ['Daniel Ricciardo', 'Kevin Magnussen', 'Carlos Sainz',\n",
    "                  'Valtteri Bottas', 'Lance Stroll', 'George Russell',\n",
    "                  'Lando Norris', 'Sebastian Vettel', 'Kimi Räikkönen',\n",
    "                  'Charles Leclerc', 'Lewis Hamilton', 'Daniil Kvyat',\n",
    "                  'Max Verstappen', 'Pierre Gasly', 'Alexander Albon',\n",
    "                  'Sergio Pérez', 'Esteban Ocon', 'Antonio Giovinazzi',\n",
    "                  'Romain Grosjean','Nicholas Latifi']\n",
    "data['active_driver'] = data['driver'].apply(lambda x: int(x in active_drivers))"
   ]
  },
  {
   "cell_type": "markdown",
   "metadata": {},
   "source": [
    "Colunas finais após modificações."
   ]
  },
  {
   "cell_type": "code",
   "execution_count": 16,
   "metadata": {},
   "outputs": [
    {
     "name": "stdout",
     "output_type": "stream",
     "text": [
      "Colunas restantes:  Index(['year', 'date', 'url', 'quali_position', 'position', 'statusId',\n",
      "       'number_driver', 'forename', 'surname', 'dob', 'nationality_driver',\n",
      "       'url_driver', 'name_constructor', 'nationality_constructor',\n",
      "       'url_constructor', 'GP_name', 'country', 'driver', 'age_at_gp_in_days',\n",
      "       'driver_home', 'constructor_home', 'driver_dnf', 'constructor_dnf',\n",
      "       'driver_confidence', 'constructor_reliability', 'active_constructor',\n",
      "       'active_driver'],\n",
      "      dtype='object')\n"
     ]
    }
   ],
   "source": [
    "print('Colunas restantes: ', data.columns)"
   ]
  },
  {
   "cell_type": "markdown",
   "metadata": {},
   "source": [
    "##### 3.1.3. Criação do novo dataframe\n",
    "\n",
    "Depois dessas manipulações de colunas, existem colunas que não serão mais utilizadas ou foram transformadas em outras. Por isso é necessário criar um novo dataframe somente com as colunas úteis."
   ]
  },
  {
   "cell_type": "code",
   "execution_count": 17,
   "metadata": {},
   "outputs": [
    {
     "name": "stdout",
     "output_type": "stream",
     "text": [
      "Colunas restantes:  Index(['GP_name', 'quali_position', 'name_constructor', 'age_at_gp_in_days',\n",
      "       'driver', 'position', 'driver_confidence', 'constructor_reliability',\n",
      "       'driver_home', 'constructor_home'],\n",
      "      dtype='object')\n"
     ]
    }
   ],
   "source": [
    "# Utilizar somente colunas necessárias\n",
    "cleaned_data = data[['GP_name','quali_position','name_constructor', 'age_at_gp_in_days',\n",
    "    'driver','position','driver_confidence','constructor_reliability',\n",
    "    'active_driver','active_constructor', 'driver_home', 'constructor_home']]\n",
    "\n",
    "# Manter pilotos e equipes que ainda existem na F1\n",
    "cleaned_data = cleaned_data[cleaned_data['active_driver']==1]\n",
    "cleaned_data = cleaned_data[cleaned_data['active_constructor']==1]\n",
    "cleaned_data = cleaned_data.drop(['active_driver','active_constructor'], axis=1)\n",
    "\n",
    "print('Colunas restantes: ', cleaned_data.columns)"
   ]
  },
  {
   "cell_type": "markdown",
   "metadata": {},
   "source": [
    "Dessa forma, o dataframe limpo está exibido abaixo.\n",
    "\n",
    "As colunas utilizadas são:\n",
    "- **GP_name**: Nome do GP\n",
    "- **quali_position**: Posição do piloto na qualificação\n",
    "- **name_constructor**: Nome da equipe\n",
    "- **age_at_gp_in_days**: Idade do piloto em dias no dia da corrida\n",
    "- **driver**: Nome do piloto\n",
    "- **position**: Posição do piloto na corrida. O valor '\\N' representa que o piloto não finalizou a corrida.\n",
    "- **driver_confidence**: Confiança do piloto\n",
    "- **constructor_reliability**: Confiabilidade da equipe\n",
    "- **driver_home**: Se o piloto é da mesma nacionalidade do país que cede o GP\n",
    "- **constructor_home**: Se a equipe é da mesma nacionalidade do país que cede o GP\n",
    "\n",
    "Cada linha representa o resultado de uma corrida. O objetivo é prever a posição do piloto na corrida."
   ]
  },
  {
   "cell_type": "code",
   "execution_count": 18,
   "metadata": {},
   "outputs": [
    {
     "data": {
      "text/html": [
       "<div>\n",
       "<style scoped>\n",
       "    .dataframe tbody tr th:only-of-type {\n",
       "        vertical-align: middle;\n",
       "    }\n",
       "\n",
       "    .dataframe tbody tr th {\n",
       "        vertical-align: top;\n",
       "    }\n",
       "\n",
       "    .dataframe thead th {\n",
       "        text-align: right;\n",
       "    }\n",
       "</style>\n",
       "<table border=\"1\" class=\"dataframe\">\n",
       "  <thead>\n",
       "    <tr style=\"text-align: right;\">\n",
       "      <th></th>\n",
       "      <th>GP_name</th>\n",
       "      <th>quali_position</th>\n",
       "      <th>name_constructor</th>\n",
       "      <th>age_at_gp_in_days</th>\n",
       "      <th>driver</th>\n",
       "      <th>position</th>\n",
       "      <th>driver_confidence</th>\n",
       "      <th>constructor_reliability</th>\n",
       "      <th>driver_home</th>\n",
       "      <th>constructor_home</th>\n",
       "    </tr>\n",
       "  </thead>\n",
       "  <tbody>\n",
       "    <tr>\n",
       "      <th>39</th>\n",
       "      <td>Albert Park Grand Prix Circuit</td>\n",
       "      <td>12</td>\n",
       "      <td>Renault</td>\n",
       "      <td>10851</td>\n",
       "      <td>Daniel Ricciardo</td>\n",
       "      <td>\\N</td>\n",
       "      <td>0.942197</td>\n",
       "      <td>0.530151</td>\n",
       "      <td>1</td>\n",
       "      <td>0</td>\n",
       "    </tr>\n",
       "    <tr>\n",
       "      <th>40</th>\n",
       "      <td>Albert Park Grand Prix Circuit</td>\n",
       "      <td>14</td>\n",
       "      <td>Renault</td>\n",
       "      <td>8567</td>\n",
       "      <td>Kevin Magnussen</td>\n",
       "      <td>12</td>\n",
       "      <td>0.952381</td>\n",
       "      <td>0.530151</td>\n",
       "      <td>0</td>\n",
       "      <td>0</td>\n",
       "    </tr>\n",
       "    <tr>\n",
       "      <th>41</th>\n",
       "      <td>Albert Park Grand Prix Circuit</td>\n",
       "      <td>9</td>\n",
       "      <td>Renault</td>\n",
       "      <td>8606</td>\n",
       "      <td>Carlos Sainz</td>\n",
       "      <td>10</td>\n",
       "      <td>0.903846</td>\n",
       "      <td>0.530151</td>\n",
       "      <td>0</td>\n",
       "      <td>0</td>\n",
       "    </tr>\n",
       "  </tbody>\n",
       "</table>\n",
       "</div>"
      ],
      "text/plain": [
       "                           GP_name  quali_position name_constructor  \\\n",
       "39  Albert Park Grand Prix Circuit              12          Renault   \n",
       "40  Albert Park Grand Prix Circuit              14          Renault   \n",
       "41  Albert Park Grand Prix Circuit               9          Renault   \n",
       "\n",
       "    age_at_gp_in_days            driver position  driver_confidence  \\\n",
       "39              10851  Daniel Ricciardo       \\N           0.942197   \n",
       "40               8567   Kevin Magnussen       12           0.952381   \n",
       "41               8606      Carlos Sainz       10           0.903846   \n",
       "\n",
       "    constructor_reliability  driver_home  constructor_home  \n",
       "39                 0.530151            1                 0  \n",
       "40                 0.530151            0                 0  \n",
       "41                 0.530151            0                 0  "
      ]
     },
     "execution_count": 18,
     "metadata": {},
     "output_type": "execute_result"
    }
   ],
   "source": [
    "cleaned_data.head(3)"
   ]
  },
  {
   "cell_type": "markdown",
   "metadata": {},
   "source": [
    "### 3.2. Manipulação de variáveis qualitativas e quantitativas\n",
    "\n",
    "Os classificadores utilizam, normalmente, somente variáveis inteiras ou reais. Por isso é necessário passar variáveis qualitativas para variáveis quantitativas. E de modo semelhantes ajustar os valores de variáveis quantitativas de modo que seja mais significante para o modelo.\n",
    "\n",
    "Como predizer a posição exata de um piloto é muito dificil, a coluna 'position' será transformada em uma coluna com 3 valores. 0 caso o piloto termine no podio, 1 caso o piloto termine entre a quarta e a decima posição e 2 caso o piloto termine abaixo da decima posição."
   ]
  },
  {
   "cell_type": "code",
   "execution_count": 19,
   "metadata": {},
   "outputs": [],
   "source": [
    "# Função para converter o valor da posição do piloto para um dos tres valores [0, 1, 2]\n",
    "def position_index(position):\n",
    "    # Posição para obter um pódio\n",
    "    if position <= 3:\n",
    "        return 0\n",
    "    # Posição para obter pontos mas fora do pódio\n",
    "    elif position <= 10:\n",
    "        return 1\n",
    "    # Posição de finalização para não obter pontos\n",
    "    else:\n",
    "        return 2"
   ]
  },
  {
   "cell_type": "markdown",
   "metadata": {},
   "source": [
    "Padronização dos dados utilizando *StandardScaler* para normalizar valores inteiros e *LabelEncoder* para codificar variáveis qualitativas."
   ]
  },
  {
   "cell_type": "code",
   "execution_count": 20,
   "metadata": {},
   "outputs": [],
   "source": [
    "sc = StandardScaler()\n",
    "le = LabelEncoder()\n",
    "\n",
    "formatted_data = cleaned_data.copy()\n",
    "\n",
    "DNF_POSITION = 20\n",
    "formatted_data['position'] = formatted_data['position'].apply(lambda x: int(x) if x!='\\\\N' else DNF_POSITION)\n",
    "\n",
    "formatted_data['GP_name'] = le.fit_transform(formatted_data['GP_name'])\n",
    "formatted_data['name_constructor'] = le.fit_transform(formatted_data['name_constructor'])\n",
    "formatted_data['driver'] = le.fit_transform(formatted_data['driver'])\n",
    "\n",
    "formatted_data['age_at_gp_in_days'] = sc.fit_transform(formatted_data['age_at_gp_in_days'].values.reshape(-1,1))\n",
    "\n",
    "formatted_data['position'] = formatted_data['position'].apply(position_index)"
   ]
  },
  {
   "cell_type": "markdown",
   "metadata": {},
   "source": [
    "Salvando o dataframe limpo em um arquivo CSV."
   ]
  },
  {
   "cell_type": "code",
   "execution_count": 21,
   "metadata": {},
   "outputs": [],
   "source": [
    "formatted_data.to_csv('formula-1.csv', index=False)"
   ]
  },
  {
   "cell_type": "markdown",
   "metadata": {},
   "source": [
    "### 3.3. Divisão dos dados para treino e teste\n",
    "\n",
    "Os dados para treinos envolverão o descobrimento de hiper-parâmetros para o modelo. Os dados de teste serão utilizados para verificar a acurácia do modelo no fim.\n",
    "\n",
    "**Relembrando**: A coluna utilizada como label dos dados é a posição do piloto no final da corrida."
   ]
  },
  {
   "cell_type": "code",
   "execution_count": 22,
   "metadata": {},
   "outputs": [],
   "source": [
    "X = formatted_data.drop(['position'],1)\n",
    "y = formatted_data['position']\n",
    "\n",
    "X_train, X_test, y_train, y_test = train_test_split(X, y, test_size=0.2, random_state=SEED)"
   ]
  },
  {
   "cell_type": "markdown",
   "metadata": {},
   "source": [
    "## 4. Modelos\n",
    "\n",
    "Os modelos utilizados foram:\n",
    "- **Decision Tree**: Árvore de decisão\n",
    "- **Multi-layer Perceptron**: Rede neural\n",
    "- **Gaussian Naive Bayes**: Classificador Naive Bayes\n",
    "- **KNNeighbors**: Classificador KNN"
   ]
  },
  {
   "cell_type": "markdown",
   "metadata": {},
   "source": [
    "### 4.1. Visualização inicial\n",
    "\n",
    "Antes de começar a testar os hiper parâmetros, uma visão inicial das precisões dos modelos pode ser obtido utilizando os hiper-parâmetros padrões.\n",
    "\n",
    "Abaixo é exibido um Boxplot com a precisão de cada modelo após utilizado 10-fold stratified cross validation."
   ]
  },
  {
   "cell_type": "code",
   "execution_count": 23,
   "metadata": {},
   "outputs": [
    {
     "name": "stdout",
     "output_type": "stream",
     "text": [
      "DecisionTreeClassifier : 0.5198412698412699\n",
      "MLPClassifier : 0.6252822341057636\n",
      "GaussianNB : 0.5953229776759189\n",
      "KNeighborsClassifier : 0.5706052117816822\n"
     ]
    },
    {
     "data": {
      "image/png": "[encoded data removed]",
      "text/plain": [
       "<Figure size 1080x720 with 1 Axes>"
      ]
     },
     "metadata": {},
     "output_type": "display_data"
    }
   ],
   "source": [
    "models = [DecisionTreeClassifier(),MLPClassifier(),GaussianNB(),KNeighborsClassifier()]\n",
    "names = ['DecisionTreeClassifier','MLPClassifier','GaussianNB','KNeighborsClassifier']\n",
    "model_dict = dict(zip(models,names))\n",
    "mean_results = []\n",
    "results = []\n",
    "name = []\n",
    "for model in models:\n",
    "    cv = StratifiedKFold(n_splits=10, random_state=SEED, shuffle=True)\n",
    "    result = cross_val_score(model,X_train,y_train,cv=cv,scoring='accuracy')\n",
    "    mean_results.append(result.mean())\n",
    "    results.append(result)\n",
    "    name.append(model_dict[model])\n",
    "    print(f'{model_dict[model]} : {result.mean()}')\n",
    "\n",
    "plt.figure(figsize=(15,10))\n",
    "plt.boxplot(x=results,labels=name)\n",
    "plt.xlabel('Modelos')\n",
    "plt.ylabel('Precisão')\n",
    "plt.title('Comparação na perfomance dos modelos utilizando parâmetros padrão')\n",
    "plt.savefig('out/default_model_performance.png')\n",
    "plt.show()"
   ]
  },
  {
   "cell_type": "markdown",
   "metadata": {},
   "source": [
    "### 4.2. Otimização dos hiper-parâmetros\n",
    "\n",
    "Cada um dos modelos utilizados possuem hiper-parâmetros que podem ser ajustados para melhorar a precisão do modelo. Por isso, foi utilizado o RandomizedSearchCV para encontrar os melhores hiper-parâmetros para cada modelo baseado em uma lista de parâmetros pré-definidos."
   ]
  },
  {
   "cell_type": "markdown",
   "metadata": {},
   "source": [
    "#### 4.2.1. Decision Tree"
   ]
  },
  {
   "cell_type": "code",
   "execution_count": 24,
   "metadata": {},
   "outputs": [
    {
     "name": "stdout",
     "output_type": "stream",
     "text": [
      "Parametros encontrados:  {'min_samples_split': 20, 'min_samples_leaf': 35, 'max_features': 'sqrt', 'max_depth': 10, 'criterion': 'gini'}\n"
     ]
    }
   ],
   "source": [
    "# Definição do intervalo de parâmetros utilizados\n",
    "dt_param_grid = {\n",
    "    'criterion': ['gini','entropy', 'log_loss'],\n",
    "    'max_depth': [5, 10, 15],\n",
    "    'min_samples_split': [20, 40, 60],\n",
    "    'min_samples_leaf': [15, 20, 35],\n",
    "    'max_features': ['sqrt','log2']\n",
    "}\n",
    "\n",
    "dt_rand_search = RandomizedSearchCV(DecisionTreeClassifier(), param_distributions=dt_param_grid, n_iter=100, cv=10, random_state=SEED, n_jobs=2)\n",
    "dt_rand_search.fit(X_train,y_train)\n",
    "print('Parametros encontrados: ', dt_rand_search.best_params_)"
   ]
  },
  {
   "cell_type": "markdown",
   "metadata": {},
   "source": [
    "#### 4.2.2. Multilayer Perceptron Classifier"
   ]
  },
  {
   "cell_type": "code",
   "execution_count": 25,
   "metadata": {},
   "outputs": [
    {
     "name": "stderr",
     "output_type": "stream",
     "text": [
      "/home/joao/.local/lib/python3.10/site-packages/sklearn/neural_network/_multilayer_perceptron.py:559: ConvergenceWarning: lbfgs failed to converge (status=1):\n",
      "STOP: TOTAL NO. of ITERATIONS REACHED LIMIT.\n",
      "\n",
      "Increase the number of iterations (max_iter) or scale the data as shown in:\n",
      "    https://scikit-learn.org/stable/modules/preprocessing.html\n",
      "  self.n_iter_ = _check_optimize_result(\"lbfgs\", opt_res, self.max_iter)\n",
      "/home/joao/.local/lib/python3.10/site-packages/sklearn/neural_network/_multilayer_perceptron.py:559: ConvergenceWarning: lbfgs failed to converge (status=1):\n",
      "STOP: TOTAL NO. of ITERATIONS REACHED LIMIT.\n",
      "\n",
      "Increase the number of iterations (max_iter) or scale the data as shown in:\n",
      "    https://scikit-learn.org/stable/modules/preprocessing.html\n",
      "  self.n_iter_ = _check_optimize_result(\"lbfgs\", opt_res, self.max_iter)\n",
      "/home/joao/.local/lib/python3.10/site-packages/sklearn/neural_network/_multilayer_perceptron.py:559: ConvergenceWarning: lbfgs failed to converge (status=1):\n",
      "STOP: TOTAL NO. of ITERATIONS REACHED LIMIT.\n",
      "\n",
      "Increase the number of iterations (max_iter) or scale the data as shown in:\n",
      "    https://scikit-learn.org/stable/modules/preprocessing.html\n",
      "  self.n_iter_ = _check_optimize_result(\"lbfgs\", opt_res, self.max_iter)\n",
      "/home/joao/.local/lib/python3.10/site-packages/sklearn/neural_network/_multilayer_perceptron.py:559: ConvergenceWarning: lbfgs failed to converge (status=1):\n",
      "STOP: TOTAL NO. of ITERATIONS REACHED LIMIT.\n",
      "\n",
      "Increase the number of iterations (max_iter) or scale the data as shown in:\n",
      "    https://scikit-learn.org/stable/modules/preprocessing.html\n",
      "  self.n_iter_ = _check_optimize_result(\"lbfgs\", opt_res, self.max_iter)\n",
      "/home/joao/.local/lib/python3.10/site-packages/sklearn/neural_network/_multilayer_perceptron.py:559: ConvergenceWarning: lbfgs failed to converge (status=1):\n",
      "STOP: TOTAL NO. of ITERATIONS REACHED LIMIT.\n",
      "\n",
      "Increase the number of iterations (max_iter) or scale the data as shown in:\n",
      "    https://scikit-learn.org/stable/modules/preprocessing.html\n",
      "  self.n_iter_ = _check_optimize_result(\"lbfgs\", opt_res, self.max_iter)\n",
      "/home/joao/.local/lib/python3.10/site-packages/sklearn/neural_network/_multilayer_perceptron.py:559: ConvergenceWarning: lbfgs failed to converge (status=1):\n",
      "STOP: TOTAL NO. of ITERATIONS REACHED LIMIT.\n",
      "\n",
      "Increase the number of iterations (max_iter) or scale the data as shown in:\n",
      "    https://scikit-learn.org/stable/modules/preprocessing.html\n",
      "  self.n_iter_ = _check_optimize_result(\"lbfgs\", opt_res, self.max_iter)\n",
      "/home/joao/.local/lib/python3.10/site-packages/sklearn/neural_network/_multilayer_perceptron.py:559: ConvergenceWarning: lbfgs failed to converge (status=1):\n",
      "STOP: TOTAL NO. of ITERATIONS REACHED LIMIT.\n",
      "\n",
      "Increase the number of iterations (max_iter) or scale the data as shown in:\n",
      "    https://scikit-learn.org/stable/modules/preprocessing.html\n",
      "  self.n_iter_ = _check_optimize_result(\"lbfgs\", opt_res, self.max_iter)\n",
      "/home/joao/.local/lib/python3.10/site-packages/sklearn/neural_network/_multilayer_perceptron.py:559: ConvergenceWarning: lbfgs failed to converge (status=1):\n",
      "STOP: TOTAL NO. of ITERATIONS REACHED LIMIT.\n",
      "\n",
      "Increase the number of iterations (max_iter) or scale the data as shown in:\n",
      "    https://scikit-learn.org/stable/modules/preprocessing.html\n",
      "  self.n_iter_ = _check_optimize_result(\"lbfgs\", opt_res, self.max_iter)\n",
      "/home/joao/.local/lib/python3.10/site-packages/sklearn/neural_network/_multilayer_perceptron.py:559: ConvergenceWarning: lbfgs failed to converge (status=1):\n",
      "STOP: TOTAL NO. of ITERATIONS REACHED LIMIT.\n",
      "\n",
      "Increase the number of iterations (max_iter) or scale the data as shown in:\n",
      "    https://scikit-learn.org/stable/modules/preprocessing.html\n",
      "  self.n_iter_ = _check_optimize_result(\"lbfgs\", opt_res, self.max_iter)\n",
      "/home/joao/.local/lib/python3.10/site-packages/sklearn/neural_network/_multilayer_perceptron.py:559: ConvergenceWarning: lbfgs failed to converge (status=1):\n",
      "STOP: TOTAL NO. of ITERATIONS REACHED LIMIT.\n",
      "\n",
      "Increase the number of iterations (max_iter) or scale the data as shown in:\n",
      "    https://scikit-learn.org/stable/modules/preprocessing.html\n",
      "  self.n_iter_ = _check_optimize_result(\"lbfgs\", opt_res, self.max_iter)\n",
      "/home/joao/.local/lib/python3.10/site-packages/sklearn/neural_network/_multilayer_perceptron.py:702: ConvergenceWarning: Stochastic Optimizer: Maximum iterations (200) reached and the optimization hasn't converged yet.\n",
      "  warnings.warn(\n",
      "/home/joao/.local/lib/python3.10/site-packages/sklearn/neural_network/_multilayer_perceptron.py:702: ConvergenceWarning: Stochastic Optimizer: Maximum iterations (200) reached and the optimization hasn't converged yet.\n",
      "  warnings.warn(\n",
      "/home/joao/.local/lib/python3.10/site-packages/sklearn/neural_network/_multilayer_perceptron.py:702: ConvergenceWarning: Stochastic Optimizer: Maximum iterations (200) reached and the optimization hasn't converged yet.\n",
      "  warnings.warn(\n",
      "/home/joao/.local/lib/python3.10/site-packages/sklearn/neural_network/_multilayer_perceptron.py:702: ConvergenceWarning: Stochastic Optimizer: Maximum iterations (200) reached and the optimization hasn't converged yet.\n",
      "  warnings.warn(\n",
      "/home/joao/.local/lib/python3.10/site-packages/sklearn/neural_network/_multilayer_perceptron.py:702: ConvergenceWarning: Stochastic Optimizer: Maximum iterations (200) reached and the optimization hasn't converged yet.\n",
      "  warnings.warn(\n",
      "/home/joao/.local/lib/python3.10/site-packages/sklearn/neural_network/_multilayer_perceptron.py:702: ConvergenceWarning: Stochastic Optimizer: Maximum iterations (200) reached and the optimization hasn't converged yet.\n",
      "  warnings.warn(\n",
      "/home/joao/.local/lib/python3.10/site-packages/sklearn/neural_network/_multilayer_perceptron.py:702: ConvergenceWarning: Stochastic Optimizer: Maximum iterations (200) reached and the optimization hasn't converged yet.\n",
      "  warnings.warn(\n",
      "/home/joao/.local/lib/python3.10/site-packages/sklearn/neural_network/_multilayer_perceptron.py:702: ConvergenceWarning: Stochastic Optimizer: Maximum iterations (200) reached and the optimization hasn't converged yet.\n",
      "  warnings.warn(\n",
      "/home/joao/.local/lib/python3.10/site-packages/sklearn/neural_network/_multilayer_perceptron.py:702: ConvergenceWarning: Stochastic Optimizer: Maximum iterations (200) reached and the optimization hasn't converged yet.\n",
      "  warnings.warn(\n",
      "/home/joao/.local/lib/python3.10/site-packages/sklearn/neural_network/_multilayer_perceptron.py:702: ConvergenceWarning: Stochastic Optimizer: Maximum iterations (200) reached and the optimization hasn't converged yet.\n",
      "  warnings.warn(\n",
      "/home/joao/.local/lib/python3.10/site-packages/sklearn/neural_network/_multilayer_perceptron.py:702: ConvergenceWarning: Stochastic Optimizer: Maximum iterations (200) reached and the optimization hasn't converged yet.\n",
      "  warnings.warn(\n",
      "/home/joao/.local/lib/python3.10/site-packages/sklearn/neural_network/_multilayer_perceptron.py:702: ConvergenceWarning: Stochastic Optimizer: Maximum iterations (200) reached and the optimization hasn't converged yet.\n",
      "  warnings.warn(\n",
      "/home/joao/.local/lib/python3.10/site-packages/sklearn/neural_network/_multilayer_perceptron.py:559: ConvergenceWarning: lbfgs failed to converge (status=1):\n",
      "STOP: TOTAL NO. of ITERATIONS REACHED LIMIT.\n",
      "\n",
      "Increase the number of iterations (max_iter) or scale the data as shown in:\n",
      "    https://scikit-learn.org/stable/modules/preprocessing.html\n",
      "  self.n_iter_ = _check_optimize_result(\"lbfgs\", opt_res, self.max_iter)\n",
      "/home/joao/.local/lib/python3.10/site-packages/sklearn/neural_network/_multilayer_perceptron.py:559: ConvergenceWarning: lbfgs failed to converge (status=1):\n",
      "STOP: TOTAL NO. of ITERATIONS REACHED LIMIT.\n",
      "\n",
      "Increase the number of iterations (max_iter) or scale the data as shown in:\n",
      "    https://scikit-learn.org/stable/modules/preprocessing.html\n",
      "  self.n_iter_ = _check_optimize_result(\"lbfgs\", opt_res, self.max_iter)\n",
      "/home/joao/.local/lib/python3.10/site-packages/sklearn/neural_network/_multilayer_perceptron.py:559: ConvergenceWarning: lbfgs failed to converge (status=1):\n",
      "STOP: TOTAL NO. of ITERATIONS REACHED LIMIT.\n",
      "\n",
      "Increase the number of iterations (max_iter) or scale the data as shown in:\n",
      "    https://scikit-learn.org/stable/modules/preprocessing.html\n",
      "  self.n_iter_ = _check_optimize_result(\"lbfgs\", opt_res, self.max_iter)\n",
      "/home/joao/.local/lib/python3.10/site-packages/sklearn/neural_network/_multilayer_perceptron.py:559: ConvergenceWarning: lbfgs failed to converge (status=1):\n",
      "STOP: TOTAL NO. of ITERATIONS REACHED LIMIT.\n",
      "\n",
      "Increase the number of iterations (max_iter) or scale the data as shown in:\n",
      "    https://scikit-learn.org/stable/modules/preprocessing.html\n",
      "  self.n_iter_ = _check_optimize_result(\"lbfgs\", opt_res, self.max_iter)\n",
      "/home/joao/.local/lib/python3.10/site-packages/sklearn/neural_network/_multilayer_perceptron.py:559: ConvergenceWarning: lbfgs failed to converge (status=1):\n",
      "STOP: TOTAL NO. of ITERATIONS REACHED LIMIT.\n",
      "\n",
      "Increase the number of iterations (max_iter) or scale the data as shown in:\n",
      "    https://scikit-learn.org/stable/modules/preprocessing.html\n",
      "  self.n_iter_ = _check_optimize_result(\"lbfgs\", opt_res, self.max_iter)\n",
      "/home/joao/.local/lib/python3.10/site-packages/sklearn/neural_network/_multilayer_perceptron.py:559: ConvergenceWarning: lbfgs failed to converge (status=1):\n",
      "STOP: TOTAL NO. of ITERATIONS REACHED LIMIT.\n",
      "\n",
      "Increase the number of iterations (max_iter) or scale the data as shown in:\n",
      "    https://scikit-learn.org/stable/modules/preprocessing.html\n",
      "  self.n_iter_ = _check_optimize_result(\"lbfgs\", opt_res, self.max_iter)\n",
      "/home/joao/.local/lib/python3.10/site-packages/sklearn/neural_network/_multilayer_perceptron.py:559: ConvergenceWarning: lbfgs failed to converge (status=1):\n",
      "STOP: TOTAL NO. of ITERATIONS REACHED LIMIT.\n",
      "\n",
      "Increase the number of iterations (max_iter) or scale the data as shown in:\n",
      "    https://scikit-learn.org/stable/modules/preprocessing.html\n",
      "  self.n_iter_ = _check_optimize_result(\"lbfgs\", opt_res, self.max_iter)\n",
      "/home/joao/.local/lib/python3.10/site-packages/sklearn/neural_network/_multilayer_perceptron.py:559: ConvergenceWarning: lbfgs failed to converge (status=1):\n",
      "STOP: TOTAL NO. of ITERATIONS REACHED LIMIT.\n",
      "\n",
      "Increase the number of iterations (max_iter) or scale the data as shown in:\n",
      "    https://scikit-learn.org/stable/modules/preprocessing.html\n",
      "  self.n_iter_ = _check_optimize_result(\"lbfgs\", opt_res, self.max_iter)\n",
      "/home/joao/.local/lib/python3.10/site-packages/sklearn/neural_network/_multilayer_perceptron.py:559: ConvergenceWarning: lbfgs failed to converge (status=1):\n",
      "STOP: TOTAL NO. of ITERATIONS REACHED LIMIT.\n",
      "\n",
      "Increase the number of iterations (max_iter) or scale the data as shown in:\n",
      "    https://scikit-learn.org/stable/modules/preprocessing.html\n",
      "  self.n_iter_ = _check_optimize_result(\"lbfgs\", opt_res, self.max_iter)\n",
      "/home/joao/.local/lib/python3.10/site-packages/sklearn/neural_network/_multilayer_perceptron.py:559: ConvergenceWarning: lbfgs failed to converge (status=1):\n",
      "STOP: TOTAL NO. of ITERATIONS REACHED LIMIT.\n",
      "\n",
      "Increase the number of iterations (max_iter) or scale the data as shown in:\n",
      "    https://scikit-learn.org/stable/modules/preprocessing.html\n",
      "  self.n_iter_ = _check_optimize_result(\"lbfgs\", opt_res, self.max_iter)\n",
      "/home/joao/.local/lib/python3.10/site-packages/sklearn/neural_network/_multilayer_perceptron.py:702: ConvergenceWarning: Stochastic Optimizer: Maximum iterations (200) reached and the optimization hasn't converged yet.\n",
      "  warnings.warn(\n",
      "/home/joao/.local/lib/python3.10/site-packages/sklearn/neural_network/_multilayer_perceptron.py:702: ConvergenceWarning: Stochastic Optimizer: Maximum iterations (200) reached and the optimization hasn't converged yet.\n",
      "  warnings.warn(\n",
      "/home/joao/.local/lib/python3.10/site-packages/sklearn/neural_network/_multilayer_perceptron.py:702: ConvergenceWarning: Stochastic Optimizer: Maximum iterations (200) reached and the optimization hasn't converged yet.\n",
      "  warnings.warn(\n",
      "/home/joao/.local/lib/python3.10/site-packages/sklearn/neural_network/_multilayer_perceptron.py:702: ConvergenceWarning: Stochastic Optimizer: Maximum iterations (200) reached and the optimization hasn't converged yet.\n",
      "  warnings.warn(\n",
      "/home/joao/.local/lib/python3.10/site-packages/sklearn/neural_network/_multilayer_perceptron.py:702: ConvergenceWarning: Stochastic Optimizer: Maximum iterations (200) reached and the optimization hasn't converged yet.\n",
      "  warnings.warn(\n",
      "/home/joao/.local/lib/python3.10/site-packages/sklearn/neural_network/_multilayer_perceptron.py:702: ConvergenceWarning: Stochastic Optimizer: Maximum iterations (200) reached and the optimization hasn't converged yet.\n",
      "  warnings.warn(\n",
      "/home/joao/.local/lib/python3.10/site-packages/sklearn/neural_network/_multilayer_perceptron.py:702: ConvergenceWarning: Stochastic Optimizer: Maximum iterations (200) reached and the optimization hasn't converged yet.\n",
      "  warnings.warn(\n",
      "/home/joao/.local/lib/python3.10/site-packages/sklearn/neural_network/_multilayer_perceptron.py:702: ConvergenceWarning: Stochastic Optimizer: Maximum iterations (200) reached and the optimization hasn't converged yet.\n",
      "  warnings.warn(\n",
      "/home/joao/.local/lib/python3.10/site-packages/sklearn/neural_network/_multilayer_perceptron.py:702: ConvergenceWarning: Stochastic Optimizer: Maximum iterations (200) reached and the optimization hasn't converged yet.\n",
      "  warnings.warn(\n",
      "/home/joao/.local/lib/python3.10/site-packages/sklearn/neural_network/_multilayer_perceptron.py:702: ConvergenceWarning: Stochastic Optimizer: Maximum iterations (200) reached and the optimization hasn't converged yet.\n",
      "  warnings.warn(\n",
      "/home/joao/.local/lib/python3.10/site-packages/sklearn/neural_network/_multilayer_perceptron.py:559: ConvergenceWarning: lbfgs failed to converge (status=1):\n",
      "STOP: TOTAL NO. of ITERATIONS REACHED LIMIT.\n",
      "\n",
      "Increase the number of iterations (max_iter) or scale the data as shown in:\n",
      "    https://scikit-learn.org/stable/modules/preprocessing.html\n",
      "  self.n_iter_ = _check_optimize_result(\"lbfgs\", opt_res, self.max_iter)\n",
      "/home/joao/.local/lib/python3.10/site-packages/sklearn/neural_network/_multilayer_perceptron.py:559: ConvergenceWarning: lbfgs failed to converge (status=1):\n",
      "STOP: TOTAL NO. of ITERATIONS REACHED LIMIT.\n",
      "\n",
      "Increase the number of iterations (max_iter) or scale the data as shown in:\n",
      "    https://scikit-learn.org/stable/modules/preprocessing.html\n",
      "  self.n_iter_ = _check_optimize_result(\"lbfgs\", opt_res, self.max_iter)\n",
      "/home/joao/.local/lib/python3.10/site-packages/sklearn/neural_network/_multilayer_perceptron.py:559: ConvergenceWarning: lbfgs failed to converge (status=1):\n",
      "STOP: TOTAL NO. of ITERATIONS REACHED LIMIT.\n",
      "\n",
      "Increase the number of iterations (max_iter) or scale the data as shown in:\n",
      "    https://scikit-learn.org/stable/modules/preprocessing.html\n",
      "  self.n_iter_ = _check_optimize_result(\"lbfgs\", opt_res, self.max_iter)\n",
      "/home/joao/.local/lib/python3.10/site-packages/sklearn/neural_network/_multilayer_perceptron.py:559: ConvergenceWarning: lbfgs failed to converge (status=1):\n",
      "STOP: TOTAL NO. of ITERATIONS REACHED LIMIT.\n",
      "\n",
      "Increase the number of iterations (max_iter) or scale the data as shown in:\n",
      "    https://scikit-learn.org/stable/modules/preprocessing.html\n",
      "  self.n_iter_ = _check_optimize_result(\"lbfgs\", opt_res, self.max_iter)\n",
      "/home/joao/.local/lib/python3.10/site-packages/sklearn/neural_network/_multilayer_perceptron.py:559: ConvergenceWarning: lbfgs failed to converge (status=1):\n",
      "STOP: TOTAL NO. of ITERATIONS REACHED LIMIT.\n",
      "\n",
      "Increase the number of iterations (max_iter) or scale the data as shown in:\n",
      "    https://scikit-learn.org/stable/modules/preprocessing.html\n",
      "  self.n_iter_ = _check_optimize_result(\"lbfgs\", opt_res, self.max_iter)\n",
      "/home/joao/.local/lib/python3.10/site-packages/sklearn/neural_network/_multilayer_perceptron.py:559: ConvergenceWarning: lbfgs failed to converge (status=1):\n",
      "STOP: TOTAL NO. of ITERATIONS REACHED LIMIT.\n",
      "\n",
      "Increase the number of iterations (max_iter) or scale the data as shown in:\n",
      "    https://scikit-learn.org/stable/modules/preprocessing.html\n",
      "  self.n_iter_ = _check_optimize_result(\"lbfgs\", opt_res, self.max_iter)\n",
      "/home/joao/.local/lib/python3.10/site-packages/sklearn/neural_network/_multilayer_perceptron.py:559: ConvergenceWarning: lbfgs failed to converge (status=1):\n",
      "STOP: TOTAL NO. of ITERATIONS REACHED LIMIT.\n",
      "\n",
      "Increase the number of iterations (max_iter) or scale the data as shown in:\n",
      "    https://scikit-learn.org/stable/modules/preprocessing.html\n",
      "  self.n_iter_ = _check_optimize_result(\"lbfgs\", opt_res, self.max_iter)\n",
      "/home/joao/.local/lib/python3.10/site-packages/sklearn/neural_network/_multilayer_perceptron.py:559: ConvergenceWarning: lbfgs failed to converge (status=1):\n",
      "STOP: TOTAL NO. of ITERATIONS REACHED LIMIT.\n",
      "\n",
      "Increase the number of iterations (max_iter) or scale the data as shown in:\n",
      "    https://scikit-learn.org/stable/modules/preprocessing.html\n",
      "  self.n_iter_ = _check_optimize_result(\"lbfgs\", opt_res, self.max_iter)\n",
      "/home/joao/.local/lib/python3.10/site-packages/sklearn/neural_network/_multilayer_perceptron.py:559: ConvergenceWarning: lbfgs failed to converge (status=1):\n",
      "STOP: TOTAL NO. of ITERATIONS REACHED LIMIT.\n",
      "\n",
      "Increase the number of iterations (max_iter) or scale the data as shown in:\n",
      "    https://scikit-learn.org/stable/modules/preprocessing.html\n",
      "  self.n_iter_ = _check_optimize_result(\"lbfgs\", opt_res, self.max_iter)\n",
      "/home/joao/.local/lib/python3.10/site-packages/sklearn/neural_network/_multilayer_perceptron.py:559: ConvergenceWarning: lbfgs failed to converge (status=1):\n",
      "STOP: TOTAL NO. of ITERATIONS REACHED LIMIT.\n",
      "\n",
      "Increase the number of iterations (max_iter) or scale the data as shown in:\n",
      "    https://scikit-learn.org/stable/modules/preprocessing.html\n",
      "  self.n_iter_ = _check_optimize_result(\"lbfgs\", opt_res, self.max_iter)\n",
      "/home/joao/.local/lib/python3.10/site-packages/sklearn/neural_network/_multilayer_perceptron.py:702: ConvergenceWarning: Stochastic Optimizer: Maximum iterations (200) reached and the optimization hasn't converged yet.\n",
      "  warnings.warn(\n",
      "/home/joao/.local/lib/python3.10/site-packages/sklearn/neural_network/_multilayer_perceptron.py:702: ConvergenceWarning: Stochastic Optimizer: Maximum iterations (200) reached and the optimization hasn't converged yet.\n",
      "  warnings.warn(\n",
      "/home/joao/.local/lib/python3.10/site-packages/sklearn/neural_network/_multilayer_perceptron.py:702: ConvergenceWarning: Stochastic Optimizer: Maximum iterations (200) reached and the optimization hasn't converged yet.\n",
      "  warnings.warn(\n",
      "/home/joao/.local/lib/python3.10/site-packages/sklearn/neural_network/_multilayer_perceptron.py:702: ConvergenceWarning: Stochastic Optimizer: Maximum iterations (200) reached and the optimization hasn't converged yet.\n",
      "  warnings.warn(\n",
      "/home/joao/.local/lib/python3.10/site-packages/sklearn/neural_network/_multilayer_perceptron.py:702: ConvergenceWarning: Stochastic Optimizer: Maximum iterations (200) reached and the optimization hasn't converged yet.\n",
      "  warnings.warn(\n",
      "/home/joao/.local/lib/python3.10/site-packages/sklearn/neural_network/_multilayer_perceptron.py:702: ConvergenceWarning: Stochastic Optimizer: Maximum iterations (200) reached and the optimization hasn't converged yet.\n",
      "  warnings.warn(\n",
      "/home/joao/.local/lib/python3.10/site-packages/sklearn/neural_network/_multilayer_perceptron.py:702: ConvergenceWarning: Stochastic Optimizer: Maximum iterations (200) reached and the optimization hasn't converged yet.\n",
      "  warnings.warn(\n",
      "/home/joao/.local/lib/python3.10/site-packages/sklearn/neural_network/_multilayer_perceptron.py:702: ConvergenceWarning: Stochastic Optimizer: Maximum iterations (200) reached and the optimization hasn't converged yet.\n",
      "  warnings.warn(\n",
      "/home/joao/.local/lib/python3.10/site-packages/sklearn/neural_network/_multilayer_perceptron.py:702: ConvergenceWarning: Stochastic Optimizer: Maximum iterations (200) reached and the optimization hasn't converged yet.\n",
      "  warnings.warn(\n",
      "/home/joao/.local/lib/python3.10/site-packages/sklearn/neural_network/_multilayer_perceptron.py:702: ConvergenceWarning: Stochastic Optimizer: Maximum iterations (200) reached and the optimization hasn't converged yet.\n",
      "  warnings.warn(\n",
      "/home/joao/.local/lib/python3.10/site-packages/sklearn/neural_network/_multilayer_perceptron.py:702: ConvergenceWarning: Stochastic Optimizer: Maximum iterations (200) reached and the optimization hasn't converged yet.\n",
      "  warnings.warn(\n",
      "/home/joao/.local/lib/python3.10/site-packages/sklearn/neural_network/_multilayer_perceptron.py:702: ConvergenceWarning: Stochastic Optimizer: Maximum iterations (200) reached and the optimization hasn't converged yet.\n",
      "  warnings.warn(\n",
      "/home/joao/.local/lib/python3.10/site-packages/sklearn/neural_network/_multilayer_perceptron.py:702: ConvergenceWarning: Stochastic Optimizer: Maximum iterations (200) reached and the optimization hasn't converged yet.\n",
      "  warnings.warn(\n",
      "/home/joao/.local/lib/python3.10/site-packages/sklearn/neural_network/_multilayer_perceptron.py:702: ConvergenceWarning: Stochastic Optimizer: Maximum iterations (200) reached and the optimization hasn't converged yet.\n",
      "  warnings.warn(\n",
      "/home/joao/.local/lib/python3.10/site-packages/sklearn/neural_network/_multilayer_perceptron.py:702: ConvergenceWarning: Stochastic Optimizer: Maximum iterations (200) reached and the optimization hasn't converged yet.\n",
      "  warnings.warn(\n",
      "/home/joao/.local/lib/python3.10/site-packages/sklearn/neural_network/_multilayer_perceptron.py:702: ConvergenceWarning: Stochastic Optimizer: Maximum iterations (200) reached and the optimization hasn't converged yet.\n",
      "  warnings.warn(\n",
      "/home/joao/.local/lib/python3.10/site-packages/sklearn/neural_network/_multilayer_perceptron.py:702: ConvergenceWarning: Stochastic Optimizer: Maximum iterations (200) reached and the optimization hasn't converged yet.\n",
      "  warnings.warn(\n",
      "/home/joao/.local/lib/python3.10/site-packages/sklearn/neural_network/_multilayer_perceptron.py:702: ConvergenceWarning: Stochastic Optimizer: Maximum iterations (200) reached and the optimization hasn't converged yet.\n",
      "  warnings.warn(\n",
      "/home/joao/.local/lib/python3.10/site-packages/sklearn/neural_network/_multilayer_perceptron.py:702: ConvergenceWarning: Stochastic Optimizer: Maximum iterations (200) reached and the optimization hasn't converged yet.\n",
      "  warnings.warn(\n",
      "/home/joao/.local/lib/python3.10/site-packages/sklearn/neural_network/_multilayer_perceptron.py:702: ConvergenceWarning: Stochastic Optimizer: Maximum iterations (200) reached and the optimization hasn't converged yet.\n",
      "  warnings.warn(\n",
      "/home/joao/.local/lib/python3.10/site-packages/sklearn/neural_network/_multilayer_perceptron.py:559: ConvergenceWarning: lbfgs failed to converge (status=1):\n",
      "STOP: TOTAL NO. of ITERATIONS REACHED LIMIT.\n",
      "\n",
      "Increase the number of iterations (max_iter) or scale the data as shown in:\n",
      "    https://scikit-learn.org/stable/modules/preprocessing.html\n",
      "  self.n_iter_ = _check_optimize_result(\"lbfgs\", opt_res, self.max_iter)\n",
      "/home/joao/.local/lib/python3.10/site-packages/sklearn/neural_network/_multilayer_perceptron.py:559: ConvergenceWarning: lbfgs failed to converge (status=1):\n",
      "STOP: TOTAL NO. of ITERATIONS REACHED LIMIT.\n",
      "\n",
      "Increase the number of iterations (max_iter) or scale the data as shown in:\n",
      "    https://scikit-learn.org/stable/modules/preprocessing.html\n",
      "  self.n_iter_ = _check_optimize_result(\"lbfgs\", opt_res, self.max_iter)\n",
      "/home/joao/.local/lib/python3.10/site-packages/sklearn/neural_network/_multilayer_perceptron.py:559: ConvergenceWarning: lbfgs failed to converge (status=1):\n",
      "STOP: TOTAL NO. of ITERATIONS REACHED LIMIT.\n",
      "\n",
      "Increase the number of iterations (max_iter) or scale the data as shown in:\n",
      "    https://scikit-learn.org/stable/modules/preprocessing.html\n",
      "  self.n_iter_ = _check_optimize_result(\"lbfgs\", opt_res, self.max_iter)\n",
      "/home/joao/.local/lib/python3.10/site-packages/sklearn/neural_network/_multilayer_perceptron.py:559: ConvergenceWarning: lbfgs failed to converge (status=1):\n",
      "STOP: TOTAL NO. of ITERATIONS REACHED LIMIT.\n",
      "\n",
      "Increase the number of iterations (max_iter) or scale the data as shown in:\n",
      "    https://scikit-learn.org/stable/modules/preprocessing.html\n",
      "  self.n_iter_ = _check_optimize_result(\"lbfgs\", opt_res, self.max_iter)\n",
      "/home/joao/.local/lib/python3.10/site-packages/sklearn/neural_network/_multilayer_perceptron.py:559: ConvergenceWarning: lbfgs failed to converge (status=1):\n",
      "STOP: TOTAL NO. of ITERATIONS REACHED LIMIT.\n",
      "\n",
      "Increase the number of iterations (max_iter) or scale the data as shown in:\n",
      "    https://scikit-learn.org/stable/modules/preprocessing.html\n",
      "  self.n_iter_ = _check_optimize_result(\"lbfgs\", opt_res, self.max_iter)\n",
      "/home/joao/.local/lib/python3.10/site-packages/sklearn/neural_network/_multilayer_perceptron.py:559: ConvergenceWarning: lbfgs failed to converge (status=1):\n",
      "STOP: TOTAL NO. of ITERATIONS REACHED LIMIT.\n",
      "\n",
      "Increase the number of iterations (max_iter) or scale the data as shown in:\n",
      "    https://scikit-learn.org/stable/modules/preprocessing.html\n",
      "  self.n_iter_ = _check_optimize_result(\"lbfgs\", opt_res, self.max_iter)\n",
      "/home/joao/.local/lib/python3.10/site-packages/sklearn/neural_network/_multilayer_perceptron.py:559: ConvergenceWarning: lbfgs failed to converge (status=1):\n",
      "STOP: TOTAL NO. of ITERATIONS REACHED LIMIT.\n",
      "\n",
      "Increase the number of iterations (max_iter) or scale the data as shown in:\n",
      "    https://scikit-learn.org/stable/modules/preprocessing.html\n",
      "  self.n_iter_ = _check_optimize_result(\"lbfgs\", opt_res, self.max_iter)\n",
      "/home/joao/.local/lib/python3.10/site-packages/sklearn/neural_network/_multilayer_perceptron.py:559: ConvergenceWarning: lbfgs failed to converge (status=1):\n",
      "STOP: TOTAL NO. of ITERATIONS REACHED LIMIT.\n",
      "\n",
      "Increase the number of iterations (max_iter) or scale the data as shown in:\n",
      "    https://scikit-learn.org/stable/modules/preprocessing.html\n",
      "  self.n_iter_ = _check_optimize_result(\"lbfgs\", opt_res, self.max_iter)\n",
      "/home/joao/.local/lib/python3.10/site-packages/sklearn/neural_network/_multilayer_perceptron.py:559: ConvergenceWarning: lbfgs failed to converge (status=1):\n",
      "STOP: TOTAL NO. of ITERATIONS REACHED LIMIT.\n",
      "\n",
      "Increase the number of iterations (max_iter) or scale the data as shown in:\n",
      "    https://scikit-learn.org/stable/modules/preprocessing.html\n",
      "  self.n_iter_ = _check_optimize_result(\"lbfgs\", opt_res, self.max_iter)\n",
      "/home/joao/.local/lib/python3.10/site-packages/sklearn/neural_network/_multilayer_perceptron.py:559: ConvergenceWarning: lbfgs failed to converge (status=1):\n",
      "STOP: TOTAL NO. of ITERATIONS REACHED LIMIT.\n",
      "\n",
      "Increase the number of iterations (max_iter) or scale the data as shown in:\n",
      "    https://scikit-learn.org/stable/modules/preprocessing.html\n",
      "  self.n_iter_ = _check_optimize_result(\"lbfgs\", opt_res, self.max_iter)\n"
     ]
    },
    {
     "name": "stdout",
     "output_type": "stream",
     "text": [
      "{'solver': 'lbfgs', 'learning_rate': 'adaptive', 'hidden_layer_sizes': (15, 15), 'alpha': 0.001, 'activation': 'tanh'}\n"
     ]
    }
   ],
   "source": [
    "mlp_param_grid = {\n",
    "    'hidden_layer_sizes': [(15,), (15, 15), (15, 15, 15), (15, 15, 15, 15)],\n",
    "    'activation': ['identity', 'logistic', 'tanh', 'relu'],\n",
    "    'solver': ['lbfgs', 'sgd', 'adam'],\n",
    "    'alpha': [0.0001,0.001],\n",
    "    'learning_rate': ['constant', 'invscaling', 'adaptive']\n",
    "}\n",
    "\n",
    "mlp_rand_search = RandomizedSearchCV(MLPClassifier(), param_distributions=mlp_param_grid, n_iter=10, cv=10, random_state=SEED, n_jobs=2)\n",
    "mlp_rand_search.fit(X_train,y_train)\n",
    "print(mlp_rand_search.best_params_)"
   ]
  },
  {
   "cell_type": "markdown",
   "metadata": {},
   "source": [
    "#### 4.2.3. Naive Bayes Classifier"
   ]
  },
  {
   "cell_type": "code",
   "execution_count": 26,
   "metadata": {},
   "outputs": [
    {
     "name": "stdout",
     "output_type": "stream",
     "text": [
      "{'var_smoothing': 0.001}\n"
     ]
    }
   ],
   "source": [
    "nb_param_grid = {\n",
    "    'var_smoothing': [1e-9,1e-8,1e-7,1e-6,1e-5,1e-4,1e-3,1e-2,1e-1,1]\n",
    "}\n",
    "\n",
    "nb_rand_search = RandomizedSearchCV(GaussianNB(), param_distributions=nb_param_grid, n_iter=100, cv=10, random_state=SEED, n_jobs=2)\n",
    "nb_rand_search.fit(X_train,y_train)\n",
    "print(nb_rand_search.best_params_)"
   ]
  },
  {
   "cell_type": "markdown",
   "metadata": {},
   "source": [
    "#### 4.2.4. K-Nearest Neighbors Classifier"
   ]
  },
  {
   "cell_type": "code",
   "execution_count": 27,
   "metadata": {},
   "outputs": [
    {
     "name": "stdout",
     "output_type": "stream",
     "text": [
      "{'weights': 'uniform', 'n_neighbors': 20, 'leaf_size': 20, 'algorithm': 'ball_tree'}\n"
     ]
    }
   ],
   "source": [
    "knn_param_grid = {\n",
    "    'n_neighbors': [1,2,3,4,5,6,7,8,9,10,11,12,13,14,15,16,17,18,19,20],\n",
    "    'weights': ['uniform', 'distance'],\n",
    "    'algorithm': ['auto', 'ball_tree', 'kd_tree', 'brute'],\n",
    "    'leaf_size': [10,20,30,40,50,60,70,80,90,100]\n",
    "}\n",
    "\n",
    "knn_rand_search = RandomizedSearchCV(KNeighborsClassifier(), param_distributions=knn_param_grid, n_iter=100, cv=10, random_state=SEED, n_jobs=2)\n",
    "knn_rand_search.fit(X_train,y_train)\n",
    "print(knn_rand_search.best_params_)"
   ]
  },
  {
   "cell_type": "markdown",
   "metadata": {},
   "source": [
    "### 4.3. Testes com parâmetros ajustados\n",
    "\n",
    "Após a otimização dos hiper-parâmetros, o teste inicial foi repetido mas com os modelos ajustados pelos parâmetros testados. Stratified 10-Fold Cross Validation foi utilizado para obter um boxplot dos resultados."
   ]
  },
  {
   "cell_type": "code",
   "execution_count": 28,
   "metadata": {},
   "outputs": [
    {
     "name": "stdout",
     "output_type": "stream",
     "text": [
      "DecisionTreeClassifier : 0.5972455648926236\n",
      "MLPClassifier : 0.6089890501655207\n",
      "GaussianNB : 0.5940200322553263\n",
      "KNeighborsClassifier : 0.5992530345471522\n"
     ]
    },
    {
     "data": {
      "image/png": "[encoded data removed]",
      "text/plain": [
       "<Figure size 1080x720 with 1 Axes>"
      ]
     },
     "metadata": {},
     "output_type": "display_data"
    }
   ],
   "source": [
    "models = [\n",
    "    DecisionTreeClassifier(**dt_rand_search.best_params_),\n",
    "    MLPClassifier(**mlp_rand_search.best_params_),\n",
    "    GaussianNB(**nb_rand_search.best_params_),\n",
    "    KNeighborsClassifier(**knn_rand_search.best_params_)]\n",
    "names = ['DecisionTreeClassifier','MLPClassifier','GaussianNB','KNeighborsClassifier']\n",
    "model_dict = dict(zip(models,names))\n",
    "mean_results = []\n",
    "results = []\n",
    "name = []\n",
    "for model in models:\n",
    "    cv = StratifiedKFold(n_splits=10, random_state=SEED, shuffle=True)\n",
    "    result = cross_val_score(model,X_train,y_train,cv=cv,scoring='accuracy')\n",
    "    mean_results.append(result.mean())\n",
    "    results.append(result)\n",
    "    name.append(model_dict[model])\n",
    "    print(f'{model_dict[model]} : {result.mean()}')\n",
    "\n",
    "plt.figure(figsize=(15,10))\n",
    "plt.boxplot(x=results,labels=name)\n",
    "plt.xlabel('Modelos')\n",
    "plt.ylabel('Precisão')\n",
    "plt.title('Comparação na perfomance dos modelos utilizando parâmetros otimizados')\n",
    "plt.savefig('out/tuned_model_performance.png')\n",
    "plt.show()"
   ]
  },
  {
   "cell_type": "markdown",
   "metadata": {},
   "source": [
    "### 4.4. Testes finais\n",
    "\n",
    "Testes finais envolvendo o conjunto de dados reservado para testes. Utilizado os parâmetros encontrados no RandomizedSearchCV.\n",
    "\n",
    "Os resultados finais foram exibidos utilizando um heatmap para mostrar qual a eficiencia na predição de cada classe. Em cada heatmap, o eixo X representa os resultados oficiais enquanto o eixo Y representa os resultados classificados pelo modelo."
   ]
  },
  {
   "cell_type": "markdown",
   "metadata": {},
   "source": [
    "#### 4.4.1. Decision Tree"
   ]
  },
  {
   "cell_type": "code",
   "execution_count": 29,
   "metadata": {},
   "outputs": [
    {
     "name": "stdout",
     "output_type": "stream",
     "text": [
      "Decision Tree ccuracy: 0.6337662337662338\n"
     ]
    },
    {
     "data": {
      "image/png": "[encoded data removed]",
      "text/plain": [
       "<Figure size 864x720 with 2 Axes>"
      ]
     },
     "metadata": {},
     "output_type": "display_data"
    }
   ],
   "source": [
    "dt_clf = DecisionTreeClassifier(**dt_rand_search.best_params_)\n",
    "dt_clf.fit(X_train,y_train)\n",
    "dt_pred = dt_clf.predict(X_test)\n",
    "print(f'Decision Tree ccuracy: {accuracy_score(y_test,dt_pred)}')\n",
    "cnf_mat_dt = confusion_matrix(y_test,dt_pred)\n",
    "\n",
    "# Heatmap confusion matrix cnf_mat_dt with ratio of each class\n",
    "plt.figure(figsize=(12,10))\n",
    "sns.heatmap(cnf_mat_dt/np.sum(cnf_mat_dt, axis=0), annot=True, fmt='.2%', cmap='Blues', xticklabels=['Podium','Points','None'], yticklabels=['Podium','Points','None'])\n",
    "plt.title('Matriz de confusão baseado no modelo Decision Tree')\n",
    "plt.xlabel('Classe Real')\n",
    "plt.ylabel('Classe Predita')\n",
    "plt.savefig('out/dt_confusion_matrix.png')\n",
    "plt.show()"
   ]
  },
  {
   "cell_type": "markdown",
   "metadata": {},
   "source": [
    "#### 4.4.2. Multilayer Perceptron Classifier"
   ]
  },
  {
   "cell_type": "code",
   "execution_count": 30,
   "metadata": {},
   "outputs": [
    {
     "name": "stdout",
     "output_type": "stream",
     "text": [
      "MLP Accuracy: 0.6415584415584416\n"
     ]
    },
    {
     "data": {
      "image/png": "[encoded data removed]",
      "text/plain": [
       "<Figure size 864x720 with 2 Axes>"
      ]
     },
     "metadata": {},
     "output_type": "display_data"
    }
   ],
   "source": [
    "mlp_clf = MLPClassifier(**mlp_rand_search.best_params_)\n",
    "mlp_clf.fit(X_train,y_train)\n",
    "mlp_pred = mlp_clf.predict(X_test)\n",
    "print(f'MLP Accuracy: {accuracy_score(y_test,mlp_pred)}')\n",
    "\n",
    "cnf_mat_mlp = confusion_matrix(y_test,mlp_pred)\n",
    "\n",
    "plt.figure(figsize=(12,10))\n",
    "sns.heatmap(cnf_mat_mlp/np.sum(cnf_mat_mlp, axis=0), annot=True, fmt='.2%', cmap='Blues', xticklabels=['Podium','Points','None'], yticklabels=['Podium','Points','None'])\n",
    "plt.title('Matriz de confusão baseado no modelo MLP')\n",
    "plt.xlabel('Classe Real')\n",
    "plt.ylabel('Classe Predita')\n",
    "plt.savefig('out/mlp_confusion_matrix.png')\n",
    "plt.show()"
   ]
  },
  {
   "cell_type": "markdown",
   "metadata": {},
   "source": [
    "#### 4.4.3. Gaussian Naive Bayes"
   ]
  },
  {
   "cell_type": "code",
   "execution_count": 31,
   "metadata": {},
   "outputs": [
    {
     "name": "stdout",
     "output_type": "stream",
     "text": [
      "Gaussian Naive Bayes: 0.5974025974025974\n"
     ]
    },
    {
     "data": {
      "image/png": "[encoded data removed]",
      "text/plain": [
       "<Figure size 864x720 with 2 Axes>"
      ]
     },
     "metadata": {},
     "output_type": "display_data"
    }
   ],
   "source": [
    "nb_clf = GaussianNB(**nb_rand_search.best_params_)\n",
    "nb_clf.fit(X_train,y_train)\n",
    "nb_pred = nb_clf.predict(X_test)\n",
    "print(f'Gaussian Naive Bayes: {accuracy_score(y_test,nb_pred)}')\n",
    "\n",
    "cnf_mat_nb = confusion_matrix(y_test,nb_pred)\n",
    "\n",
    "plt.figure(figsize=(12,10))\n",
    "sns.heatmap(cnf_mat_nb/np.sum(cnf_mat_nb, axis=0), annot=True, fmt='.2%', cmap='Blues', xticklabels=['Podium','Points','None'], yticklabels=['Podium','Points','None'])\n",
    "plt.title('Matriz de confusão baseado no modelo Naive Bayes')\n",
    "plt.xlabel('Classe Real')\n",
    "plt.ylabel('Classe Predita')\n",
    "plt.savefig('out/nb_confusion_matrix.png')\n",
    "plt.show()"
   ]
  },
  {
   "cell_type": "markdown",
   "metadata": {},
   "source": [
    "#### 4.4.4. K-Nearest Neighbors"
   ]
  },
  {
   "cell_type": "code",
   "execution_count": 32,
   "metadata": {},
   "outputs": [
    {
     "name": "stdout",
     "output_type": "stream",
     "text": [
      "Accuracy: 0.6181818181818182\n"
     ]
    },
    {
     "data": {
      "image/png": "[encoded data removed]",
      "text/plain": [
       "<Figure size 864x720 with 2 Axes>"
      ]
     },
     "metadata": {},
     "output_type": "display_data"
    }
   ],
   "source": [
    "knn_clf = KNeighborsClassifier(**knn_rand_search.best_params_)\n",
    "knn_clf.fit(X_train,y_train)\n",
    "knn_pred = knn_clf.predict(X_test)\n",
    "print(f'Accuracy: {accuracy_score(y_test,knn_pred)}')\n",
    "\n",
    "cnf_mat_knn = confusion_matrix(y_test,knn_pred)\n",
    "\n",
    "plt.figure(figsize=(12,10))\n",
    "sns.heatmap(cnf_mat_knn/np.sum(cnf_mat_knn, axis=0), annot=True, fmt='.2%', cmap='Blues', xticklabels=['Podium','Points','None'], yticklabels=['Podium','Points','None'])\n",
    "plt.title('Matriz de confusão baseado no modelo KNN')\n",
    "plt.xlabel('Classe Real')\n",
    "plt.ylabel('Classe Predita')\n",
    "plt.savefig('out/knn_confusion_matrix.png')\n",
    "plt.show()"
   ]
  },
  {
   "cell_type": "markdown",
   "metadata": {},
   "source": [
    "## 5. Conclusão"
   ]
  },
  {
   "cell_type": "markdown",
   "metadata": {},
   "source": [
    "### 5.1. Resultados finais\n",
    "\n",
    "As classificações realizadas pelos modelos não foram tão satisfatórias em termos de precisão geral, mas algumas inferencias ainda podem ser realizadas sobre os resultados."
   ]
  },
  {
   "cell_type": "markdown",
   "metadata": {},
   "source": [
    "#### 5.1.1. Tabela de precisões finais\n",
    "\n",
    "A seguir pode ser exibido uma tabela ordenada baseada na precisão de cada modelo utilizado sob os dados de teste.\n",
    "\n",
    "Com esse resultado é possível visualizar que a precisão de todos os algorimos são semelhantes. Mas o método *K-Nearest Neighbors* foi o melhor melhor deles seguido pelos métodos *Decision Tree* e *Naive Bayes* com resultados identicos."
   ]
  },
  {
   "cell_type": "code",
   "execution_count": 33,
   "metadata": {},
   "outputs": [
    {
     "data": {
      "text/html": [
       "<div>\n",
       "<style scoped>\n",
       "    .dataframe tbody tr th:only-of-type {\n",
       "        vertical-align: middle;\n",
       "    }\n",
       "\n",
       "    .dataframe tbody tr th {\n",
       "        vertical-align: top;\n",
       "    }\n",
       "\n",
       "    .dataframe thead th {\n",
       "        text-align: right;\n",
       "    }\n",
       "</style>\n",
       "<table border=\"1\" class=\"dataframe\">\n",
       "  <thead>\n",
       "    <tr style=\"text-align: right;\">\n",
       "      <th></th>\n",
       "      <th>Model</th>\n",
       "      <th>Accuracy</th>\n",
       "    </tr>\n",
       "  </thead>\n",
       "  <tbody>\n",
       "    <tr>\n",
       "      <th>1</th>\n",
       "      <td>MLPClassifier</td>\n",
       "      <td>0.641558</td>\n",
       "    </tr>\n",
       "    <tr>\n",
       "      <th>0</th>\n",
       "      <td>DecisionTreeClassifier</td>\n",
       "      <td>0.633766</td>\n",
       "    </tr>\n",
       "    <tr>\n",
       "      <th>3</th>\n",
       "      <td>KNeighborsClassifier</td>\n",
       "      <td>0.618182</td>\n",
       "    </tr>\n",
       "    <tr>\n",
       "      <th>2</th>\n",
       "      <td>GaussianNB</td>\n",
       "      <td>0.597403</td>\n",
       "    </tr>\n",
       "  </tbody>\n",
       "</table>\n",
       "</div>"
      ],
      "text/plain": [
       "                    Model  Accuracy\n",
       "1           MLPClassifier  0.641558\n",
       "0  DecisionTreeClassifier  0.633766\n",
       "3    KNeighborsClassifier  0.618182\n",
       "2              GaussianNB  0.597403"
      ]
     },
     "execution_count": 33,
     "metadata": {},
     "output_type": "execute_result"
    }
   ],
   "source": [
    "model_accuracies = pd.DataFrame({\n",
    "    'Model': ['DecisionTreeClassifier','MLPClassifier','GaussianNB','KNeighborsClassifier'],\n",
    "    'Accuracy': [accuracy_score(y_test,dt_pred),accuracy_score(y_test,mlp_pred),accuracy_score(y_test,nb_pred),accuracy_score(y_test,knn_pred)]\n",
    "})\n",
    "model_accuracies.sort_values(by='Accuracy', ascending=False)"
   ]
  },
  {
   "cell_type": "markdown",
   "metadata": {},
   "source": [
    "#### 5.1.2. Heatmaps finais\n",
    "\n",
    "Novamente, utilizando os dados de teste abaixo foram exibidos todos os heatmaps em uma única imagem para comparação.\n",
    "\n",
    "Essa visualização nos permite inferir que o modelo *Decision Tree* se mostrou superior para prever resultados no pódio. Além disso é possível ver que o modelo Naive Bayes se mostrou mais constante ao prever resultados dado que a diferença entre as precisões de cada classe nos resultados corretos é menor do que 2%, como pode ser visto no heatmap abaixo."
   ]
  },
  {
   "cell_type": "code",
   "execution_count": 34,
   "metadata": {},
   "outputs": [
    {
     "data": {
      "image/png": "[encoded data removed]",
      "text/plain": [
       "<Figure size 1080x720 with 8 Axes>"
      ]
     },
     "metadata": {},
     "output_type": "display_data"
    }
   ],
   "source": [
    "plt.figure(figsize=(15,10))\n",
    "plt.subplot(2,2,1)\n",
    "sns.heatmap(cnf_mat_dt/np.sum(cnf_mat_dt, axis=0), annot=True, fmt='.2%', cmap='Blues', xticklabels=['1º - 3º','4º - 10º','11º - 20'], yticklabels=['1º - 3º','4º - 10º','11º - 20'])\n",
    "plt.title('Decision Tree')\n",
    "plt.xlabel('Classe Real')\n",
    "plt.ylabel('Classe Predita')\n",
    "plt.subplot(2,2,2)\n",
    "sns.heatmap(cnf_mat_mlp/np.sum(cnf_mat_mlp, axis=0), annot=True, fmt='.2%', cmap='Blues', xticklabels=['1º - 3º','4º - 10º','11º - 20'], yticklabels=['1º - 3º','4º - 10º','11º - 20'])\n",
    "plt.title('MLP')\n",
    "plt.xlabel('Classe Real')\n",
    "plt.ylabel('Classe Predita')\n",
    "plt.subplot(2,2,3)\n",
    "sns.heatmap(cnf_mat_nb/np.sum(cnf_mat_nb, axis=0), annot=True, fmt='.2%', cmap='Blues', xticklabels=['1º - 3º','4º - 10º','11º - 20'], yticklabels=['1º - 3º','4º - 10º','11º - 20'])\n",
    "plt.title('Gaussian Naive Bayes')\n",
    "plt.xlabel('Classe Real')\n",
    "plt.ylabel('Classe Predita')\n",
    "plt.subplot(2,2,4)\n",
    "sns.heatmap(cnf_mat_knn/np.sum(cnf_mat_knn, axis=0), annot=True, fmt='.2%', cmap='Blues', xticklabels=['1º - 3º','4º - 10º','11º - 20'], yticklabels=['1º - 3º','4º - 10º','11º - 20'])\n",
    "plt.title('KNN')\n",
    "plt.xlabel('Classe Real')\n",
    "plt.ylabel('Classe Predita')\n",
    "plt.savefig('out/confusion_matrix.png')\n",
    "plt.show()"
   ]
  },
  {
   "cell_type": "markdown",
   "metadata": {},
   "source": [
    "#### 5.1.3. Diferença absoluta entre os melhores classificadores\n",
    "\n",
    "Como dito anteriormente, os modelos *Decision Tree* e *Naive Bayes* se mostraram muito semelhantes em termos de precisão. Porém o algoritmo *Decision Tree* se mostrou mais eficiente para classificar corretamente resultados que obtiveram pódio. Por esses motivos, os algoritmos mais eficientes encontrados foram: *K-Nearest Neighbors* e *Decision Tree*.\n",
    "\n",
    "Um método para comparação de algoritmos é chamado de *Diferença Absoluta*, ele pode ser dadao pela seguinte fórmula:\n",
    "\n",
    "$$\n",
    "diferenca\\;absoluta(A_s - A_p)=\\frac{media(A_s - A_p)}{dp(A_s - A_p)}\n",
    "$$\n",
    "\n",
    "Utilizando os dados da sessão 4.3. é possível visualizar a diferença absoluta entre os algoritmos *K-Nearest Neighbors* e *Decision Tree*."
   ]
  },
  {
   "cell_type": "code",
   "execution_count": 35,
   "metadata": {},
   "outputs": [
    {
     "name": "stdout",
     "output_type": "stream",
     "text": [
      "Diferença absoluta: 0.046111707652435635\n"
     ]
    }
   ],
   "source": [
    "knn_result = results[3]\n",
    "dt_results = results[0]\n",
    "\n",
    "dif_absoluta = np.mean(knn_result - dt_results) / np.std(knn_result - dt_results)\n",
    "\n",
    "print(f'Diferença absoluta: {dif_absoluta}')"
   ]
  },
  {
   "cell_type": "markdown",
   "metadata": {},
   "source": [
    "### 5.3. Problemas encontrados\n",
    "\n",
    "Para eventuais continuidades ao projeto, é interessante mencionar sobre alguns problemas encontrados e que talvez possam ser resolvidos em futuras versões."
   ]
  },
  {
   "cell_type": "markdown",
   "metadata": {},
   "source": [
    "#### 5.3.1. Poucos dados\n",
    "\n",
    "O problema mais significativo encontrado foi a quantidade reduzida de dados do dataset. Como na Formula 1 há somente 21 corridas por ano em média, e cada linha presente dos dados representa o resultado de uma corrida para cada um dos pilotos, não há muitos dados para treinamento dos modelos. Para exemplificar esse fato, a quantidade de dados no conjunto de trinamento de teste pode ser visto abaixo."
   ]
  },
  {
   "cell_type": "code",
   "execution_count": 36,
   "metadata": {},
   "outputs": [
    {
     "data": {
      "text/html": [
       "<div>\n",
       "<style scoped>\n",
       "    .dataframe tbody tr th:only-of-type {\n",
       "        vertical-align: middle;\n",
       "    }\n",
       "\n",
       "    .dataframe tbody tr th {\n",
       "        vertical-align: top;\n",
       "    }\n",
       "\n",
       "    .dataframe thead th {\n",
       "        text-align: right;\n",
       "    }\n",
       "</style>\n",
       "<table border=\"1\" class=\"dataframe\">\n",
       "  <thead>\n",
       "    <tr style=\"text-align: right;\">\n",
       "      <th></th>\n",
       "      <th>Train data</th>\n",
       "      <th>Test data</th>\n",
       "    </tr>\n",
       "  </thead>\n",
       "  <tbody>\n",
       "    <tr>\n",
       "      <th>X</th>\n",
       "      <td>1537</td>\n",
       "      <td>385</td>\n",
       "    </tr>\n",
       "    <tr>\n",
       "      <th>y</th>\n",
       "      <td>1537</td>\n",
       "      <td>385</td>\n",
       "    </tr>\n",
       "  </tbody>\n",
       "</table>\n",
       "</div>"
      ],
      "text/plain": [
       "   Train data  Test data\n",
       "X        1537        385\n",
       "y        1537        385"
      ]
     },
     "execution_count": 36,
     "metadata": {},
     "output_type": "execute_result"
    }
   ],
   "source": [
    "pd.DataFrame({\n",
    "    'Train data': [X_train.shape[0], y_train.shape[0]],\n",
    "    'Test data': [X_test.shape[0], y_test.shape[0]]\n",
    "}, index=['X','y'])"
   ]
  },
  {
   "cell_type": "markdown",
   "metadata": {},
   "source": [
    "#### 5.3.2. Problemas com o algoritmo MLP\n",
    "\n",
    "Os próximos 2 problemas mais significativos encontrados estão relacionados com o algoritmo Multilayer Perceptron (MLP).\n",
    "\n",
    "O primeiro problema encontrado é a convergência do algoritmo. A razão para esse problema é que o MLP é um algoritmo que utiliza gradiente descendente para encontrar os pesos ótimos. Porém, como o dataset possui poucos dados, o gradiente descendente pode não convergir para um mínimo local. Para resolver esse problema, poderia ter sido utilizado o hiper-parâmetro learning_rate = \"adaptive\" para que o algoritmo se ajuste para cenários de não convergência. Mas com os experimentos utilizando RandomizedSearchCV, esse hiper-parâmetro não foi escolhido.\n",
    "\n",
    "O segundo problema é sobre o tempo necessário para o treinamento do algoritmo MLP. Um possível motivo para esse problema tem relação com a complexidade do algoritmo MLP. Como os algoritmos derivados de redes neurais utilizam operações matriciais para se ajustar melhor aos dados, eles se tornam mais complexos quando comparados a algoritmos como KNN que utilizam principalmente o calculo de distâncias entre amostras."
   ]
  }
 ],
 "metadata": {
  "kernelspec": {
   "display_name": "Python 3.10.6 64-bit",
   "language": "python",
   "name": "python3"
  },
  "language_info": {
   "codemirror_mode": {
    "name": "ipython",
    "version": 3
   },
   "file_extension": ".py",
   "mimetype": "text/x-python",
   "name": "python",
   "nbconvert_exporter": "python",
   "pygments_lexer": "ipython3",
   "version": "3.10.6"
  },
  "orig_nbformat": 4,
  "vscode": {
   "interpreter": {
    "hash": "916dbcbb3f70747c44a77c7bcd40155683ae19c65e1c03b4aa3499c5328201f1"
   }
  }
 },
 "nbformat": 4,
 "nbformat_minor": 2
}
